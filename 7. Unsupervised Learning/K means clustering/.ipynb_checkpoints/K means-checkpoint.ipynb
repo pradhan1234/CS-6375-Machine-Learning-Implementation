{
 "cells": [
  {
   "cell_type": "code",
   "execution_count": 398,
   "metadata": {},
   "outputs": [
    {
     "name": "stdout",
     "output_type": "stream",
     "text": [
      "Part 1: Implementation of K means Algorithm\n"
     ]
    }
   ],
   "source": [
    "print(\"Part 1: Implementation of K means Algorithm\")"
   ]
  },
  {
   "cell_type": "code",
   "execution_count": 399,
   "metadata": {
    "collapsed": true
   },
   "outputs": [],
   "source": [
    "import pandas as pd\n",
    "import matplotlib.pyplot as plt\n",
    "import random\n",
    "import math"
   ]
  },
  {
   "cell_type": "code",
   "execution_count": 414,
   "metadata": {
    "collapsed": true
   },
   "outputs": [],
   "source": [
    "inputFilePath = \"data//data.txt\""
   ]
  },
  {
   "cell_type": "code",
   "execution_count": 415,
   "metadata": {
    "collapsed": true
   },
   "outputs": [],
   "source": [
    "df = pd.read_csv(inputFilePath, delimiter=\"\\t\")"
   ]
  },
  {
   "cell_type": "code",
   "execution_count": 416,
   "metadata": {
    "collapsed": true
   },
   "outputs": [],
   "source": [
    "id_num = []\n",
    "x = []\n",
    "y = []\n",
    "\n",
    "for i in range(len(df)):\n",
    "    #print(int(df.iloc[i][0]), df.iloc[i][1], df.iloc[i][2])\n",
    "    id_num.append(int(df.iloc[i][0]))\n",
    "    x.append(df.iloc[i][1])\n",
    "    y.append(df.iloc[i][2])"
   ]
  },
  {
   "cell_type": "code",
   "execution_count": 417,
   "metadata": {},
   "outputs": [
    {
     "data": {
      "image/png": "[encoded data removed]",
      "text/plain": [
       "<matplotlib.figure.Figure at 0x1eb5a1c400>"
      ]
     },
     "metadata": {},
     "output_type": "display_data"
    }
   ],
   "source": [
    "plt.scatter(x, y)\n",
    "plt.show()"
   ]
  },
  {
   "cell_type": "code",
   "execution_count": 418,
   "metadata": {},
   "outputs": [
    {
     "name": "stdout",
     "output_type": "stream",
     "text": [
      "Value of k is: 20\n"
     ]
    }
   ],
   "source": [
    "#user inputs k\n",
    "\n",
    "k = 6\n",
    "# k = 10\n",
    "# k = 4\n",
    "# k = 5\n",
    "# k = 6\n",
    "# k = 7\n",
    "# k = 8\n",
    "# k = 9\n",
    "# k = 10\n",
    "\n",
    "print(\"Value of k is:\", k)"
   ]
  },
  {
   "cell_type": "code",
   "execution_count": 419,
   "metadata": {},
   "outputs": [
    {
     "name": "stdout",
     "output_type": "stream",
     "text": [
      "1 0.304682277228 0.802181275909\n",
      "2 0.458539760276 0.707243551792\n",
      "3 0.421828976851 0.530683964757\n",
      "4 0.436816135586 0.257017845225\n",
      "5 0.192946498936 0.577660354514\n",
      "6 0.526021383964 0.664085615604\n",
      "7 0.454278832982 0.491367255636\n",
      "8 0.708614673575 0.760788824919\n",
      "9 0.653402219242 0.462056918103\n",
      "10 0.622848326001 0.389876031662\n",
      "11 0.239083663795 0.206214546583\n",
      "12 0.476246296023 0.354683987844\n",
      "13 0.183967622182 0.687288340748\n",
      "14 0.365781178325 0.646770766406\n",
      "15 0.329335770022 0.54576241828\n",
      "16 0.712825301197 0.6359653743\n",
      "17 0.240667803039 0.843432783434\n",
      "18 0.420446755454 0.457200228687\n",
      "19 0.658953372482 0.395115887597\n",
      "20 0.220329634768 0.177106425322\n"
     ]
    },
    {
     "data": {
      "image/png": "[encoded data removed]",
      "text/plain": [
       "<matplotlib.figure.Figure at 0x1eb5cdea58>"
      ]
     },
     "metadata": {},
     "output_type": "display_data"
    }
   ],
   "source": [
    "minX = min(x)\n",
    "maxX = max(x)\n",
    "minY = min(y)\n",
    "maxY = max(y)\n",
    "\n",
    "# print(\"Range of x: [\" + str(minX) + \",\", str(maxX) + \"]\")\n",
    "# print(\"Range of y: [\" + str(minY) + \",\", str(maxY) + \"]\")\n",
    "\n",
    "listClusterID = []\n",
    "listCentroidX = []\n",
    "listCentroidY = []\n",
    "oldlistCentroidX = None\n",
    "oldlistCentroidY = None\n",
    "\n",
    "for i in range(k):\n",
    "    listClusterID.append(i+1)\n",
    "    listCentroidX.append(random.uniform(minX + 0.2, maxX - 0.2))\n",
    "    listCentroidY.append(random.uniform(minY + 0.2, maxY - 0.2))\n",
    "    \n",
    "for i in range(len(listClusterID)):\n",
    "    print(listClusterID[i], listCentroidX[i], listCentroidY[i])\n",
    "    \n",
    "plt.scatter(x, y, color='blue', marker=\".\")\n",
    "plt.scatter(listCentroidX, listCentroidY, color='red')\n",
    "plt.show()"
   ]
  },
  {
   "cell_type": "code",
   "execution_count": 420,
   "metadata": {
    "collapsed": true
   },
   "outputs": [],
   "source": [
    "def computeEuclidean(x1, y1, x2, y2):\n",
    "    return math.sqrt(math.pow(x1-x2, 2) + math.pow(y1 - y2, 2))"
   ]
  },
  {
   "cell_type": "code",
   "execution_count": 421,
   "metadata": {
    "collapsed": true
   },
   "outputs": [],
   "source": [
    "listDistances = [[] for i in range(len(listClusterID))]\n",
    "assignment = [ -1 for i in range(len(id_num))]"
   ]
  },
  {
   "cell_type": "code",
   "execution_count": 422,
   "metadata": {
    "collapsed": true
   },
   "outputs": [],
   "source": [
    "for i in range(len(id_num)):\n",
    "    minDist = 100\n",
    "    for m in range(len(listClusterID)):\n",
    "        distance = computeEuclidean(x[i], y[i], listCentroidX[m], listCentroidY[m])\n",
    "#         print(\"Instance:\", i,\", Cluster:\", m+1, \"Distance:\", distance)\n",
    "        if(minDist > distance):\n",
    "            minDist = distance\n",
    "            assignment[i] = m + 1\n",
    "#     print(\"Assignment:\", assignment)\n",
    "    if(assignment[i] == 1):\n",
    "        plt.scatter([x[i]], [y[i]], color = 'black', marker='.')\n",
    "        plt.scatter([listCentroidX[0]], [listCentroidY[0]], color= 'black', marker='o')\n",
    "    elif(assignment[i] == 2):\n",
    "        plt.scatter([x[i]], [y[i]], color = 'red', marker='.')\n",
    "        plt.scatter([listCentroidX[1]], [listCentroidY[1]], color= 'red', marker='o')\n",
    "    else:\n",
    "        plt.scatter([x[i]], [y[i]], color = 'green', marker='.')\n",
    "        plt.scatter([listCentroidX[2]], [listCentroidY[2]], color= 'green', marker='o')"
   ]
  },
  {
   "cell_type": "code",
   "execution_count": 423,
   "metadata": {
    "collapsed": true
   },
   "outputs": [],
   "source": [
    "def getSSE(assignment, x, y, listClusterID, listCentroidX, listCentroidY):\n",
    "    sse = 0\n",
    "#     print(assignment)\n",
    "#     print(listClusterID)\n",
    "    for c_id in range(len(listClusterID)):\n",
    "        for point in range(len(assignment)):\n",
    "            if(assignment[point] == listClusterID[c_id]):\n",
    "                sse = sse + computeEuclidean(listCentroidX[c_id], listCentroidY[c_id], x[point], y[point])*computeEuclidean(listCentroidX[c_id], listCentroidY[c_id], x[point], y[point])\n",
    "    return sse"
   ]
  },
  {
   "cell_type": "code",
   "execution_count": 424,
   "metadata": {},
   "outputs": [],
   "source": [
    "# plt.show()\n",
    "\n",
    "# print(\"SSE\", getSSE(assignment, x, y, listClusterID, listCentroidX, listCentroidY))\n",
    "\n",
    "for t in range(1,25):\n",
    "    \n",
    "    #update step\n",
    "    for num in range(len(listClusterID)):\n",
    "    #     print(\"Updating centroid\", k+1)\n",
    "        sumX = 0\n",
    "        totalX = 0.00001\n",
    "        sumY = 0\n",
    "        totalY = 0.00001\n",
    "        for i in range(len(id_num)):\n",
    "            if(assignment[i] == num+1):\n",
    "                sumX = sumX + x[i]\n",
    "                totalX = totalX + 1\n",
    "                sumY = sumY + y[i]\n",
    "                totalY = totalY + 1\n",
    "        listCentroidX[num] = sumX/totalX\n",
    "        listCentroidY[num] = sumY/totalY\n",
    "        \n",
    "        \n",
    "    #assignment\n",
    "    for i in range(len(id_num)):\n",
    "        minDist = 100\n",
    "        for m in range(len(listClusterID)):\n",
    "            distance = computeEuclidean(x[i], y[i], listCentroidX[m], listCentroidY[m])\n",
    "    #         print(\"Instance:\", i,\", Cluster:\", m+1, \"Distance:\", distance)\n",
    "            if(minDist > distance):\n",
    "                minDist = distance\n",
    "                assignment[i] = m + 1\n",
    "    #     print(\"Assignment:\", assignment)\n",
    "#         if(assignment[i] == 1):\n",
    "#             plt.scatter([x[i]], [y[i]], color = 'black', marker='.')\n",
    "#             plt.scatter([listCentroidX[0]], [listCentroidY[0]], color= 'black', marker='o')\n",
    "#         elif(assignment[i] == 2):\n",
    "#             plt.scatter([x[i]], [y[i]], color = 'red', marker='.')\n",
    "#             plt.scatter([listCentroidX[1]], [listCentroidY[1]], color= 'red', marker='o')\n",
    "#         else:\n",
    "#             plt.scatter([x[i]], [y[i]], color = 'green', marker='.')\n",
    "#             plt.scatter([listCentroidX[2]], [listCentroidY[2]], color= 'green', marker='o')\n",
    "            \n",
    "#     plt.show()\n",
    "#     print(\"SSE\", getSSE(assignment, x, y, listClusterID, listCentroidX, listCentroidY))\n",
    "#     for i in range(len(listClusterID)):\n",
    "#         print(listClusterID[i], listCentroidX[i], listCentroidY[i])    \n",
    "    \n",
    "    if(listCentroidX == oldlistCentroidX and listCentroidY == oldlistCentroidY):\n",
    "        break\n",
    "    else:\n",
    "        oldlistCentroidX = listCentroidX\n",
    "        oldlistCentroidY = listCentroidY\n",
    "        \n"
   ]
  },
  {
   "cell_type": "code",
   "execution_count": 425,
   "metadata": {},
   "outputs": [
    {
     "name": "stdout",
     "output_type": "stream",
     "text": [
      "SSE: 0.7006030298351067\n"
     ]
    }
   ],
   "source": [
    "text_file = open(\"k-means-output.txt\", \"w\")\n",
    "for m in range(len(listClusterID)):\n",
    "    string = str(m+1)+'\\t\\t'\n",
    "    for i in range(len(id_num)):\n",
    "        if(assignment[i] == listClusterID[m]):\n",
    "            string = string + str(id_num[i])+','\n",
    "    string = string + '\\n\\n'\n",
    "    text_file.write(string)\n",
    "\n",
    "sse = \"SSE: \"+str(getSSE(assignment, x, y, listClusterID, listCentroidX, listCentroidY))\n",
    "print(sse)\n",
    "text_file.write(sse)\n",
    "text_file.close()"
   ]
  },
  {
   "cell_type": "code",
   "execution_count": null,
   "metadata": {
    "collapsed": true
   },
   "outputs": [],
   "source": []
  },
  {
   "cell_type": "code",
   "execution_count": null,
   "metadata": {
    "collapsed": true
   },
   "outputs": [],
   "source": []
  }
 ],
 "metadata": {
  "kernelspec": {
   "display_name": "Python 3",
   "language": "python",
   "name": "python3"
  },
  "language_info": {
   "codemirror_mode": {
    "name": "ipython",
    "version": 3
   },
   "file_extension": ".py",
   "mimetype": "text/x-python",
   "name": "python",
   "nbconvert_exporter": "python",
   "pygments_lexer": "ipython3",
   "version": "3.6.1"
  }
 },
 "nbformat": 4,
 "nbformat_minor": 2
}
