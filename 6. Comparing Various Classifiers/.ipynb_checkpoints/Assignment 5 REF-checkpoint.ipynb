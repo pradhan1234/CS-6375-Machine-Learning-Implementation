{
 "cells": [
  {
   "cell_type": "code",
   "execution_count": 1,
   "metadata": {
    "collapsed": true
   },
   "outputs": [],
   "source": [
    "#import pandas library\n",
    "import numpy as np\n",
    "import pandas as pd\n",
    "from sklearn.metrics import accuracy_score, precision_score\n",
    "from statistics import mean"
   ]
  },
  {
   "cell_type": "code",
   "execution_count": 24,
   "metadata": {},
   "outputs": [
    {
     "name": "stdout",
     "output_type": "stream",
     "text": [
      "Accuracy is  99.7106481481\n"
     ]
    }
   ],
   "source": [
    "accuracy = accuracy_score(y,Y_prediction)*100\n",
    "print( \"Accuracy is \", accuracy)"
   ]
  },
  {
   "cell_type": "code",
   "execution_count": 25,
   "metadata": {},
   "outputs": [
    {
     "name": "stdout",
     "output_type": "stream",
     "text": [
      "Scores for Neural Net\n",
      "[ 1.          0.97727273  1.          0.97727273  1.          0.97727273\n",
      "  1.          1.          1.          1.          0.97674419  0.90697674\n",
      "  0.95348837  0.90697674  0.97674419  0.97674419  0.97674419  0.95348837\n",
      "  0.97674419  0.97674419  0.88372093  0.88372093  0.95348837  0.95348837\n",
      "  0.95348837  1.          0.95348837  0.97674419  0.97674419  0.97674419\n",
      "  0.95348837  1.          0.97674419  0.95348837  0.97674419  0.95348837\n",
      "  0.97674419  0.97674419  1.          0.97674419]\n",
      "Average Accuracy:  96.9225687104\n"
     ]
    }
   ],
   "source": [
    "from sklearn.cross_validation import KFold, cross_val_score\n",
    "\n",
    "k_fold = KFold(len(X), n_folds=40, shuffle=True, random_state=100)\n",
    "\n",
    "print(\"Scores for Neural Net\")\n",
    "crossValArray = cross_val_score(NeuralNet, X, y, cv=k_fold, n_jobs=1)\n",
    "print(crossValArray)\n",
    "\n",
    "MeanNeuralNet = mean(crossValArray)\n",
    "print(\"Average Accuracy: \", MeanNeuralNet*100)\n"
   ]
  },
  {
   "cell_type": "code",
   "execution_count": 26,
   "metadata": {},
   "outputs": [
    {
     "name": "stdout",
     "output_type": "stream",
     "text": [
      "Precision Score\n",
      "0.997107649775\n"
     ]
    }
   ],
   "source": [
    "print(\"Precision Score\")\n",
    "precision = precision_score(y,Y_prediction,average='weighted')\n",
    "print(precision)"
   ]
  },
  {
   "cell_type": "code",
   "execution_count": null,
   "metadata": {
    "collapsed": true
   },
   "outputs": [],
   "source": []
  },
  {
   "cell_type": "code",
   "execution_count": 27,
   "metadata": {},
   "outputs": [
    {
     "data": {
      "text/plain": [
       "MLPClassifier(activation='tanh', alpha=0.0001, batch_size='auto', beta_1=0.9,\n",
       "       beta_2=0.999, early_stopping=False, epsilon=1e-08,\n",
       "       hidden_layer_sizes=(25, 40, 10, 20, 25, 10, 20),\n",
       "       learning_rate='constant', learning_rate_init=0.001, max_iter=600,\n",
       "       momentum=0.9, nesterovs_momentum=True, power_t=0.5,\n",
       "       random_state=100, shuffle=True, solver='lbfgs', tol=0.0001,\n",
       "       validation_fraction=0.1, verbose=False, warm_start=False)"
      ]
     },
     "execution_count": 27,
     "metadata": {},
     "output_type": "execute_result"
    }
   ],
   "source": [
    "#import Multi Layer Perceptron Classifier for Deep learning from sklearn...........\n",
    "from sklearn.neural_network import MLPClassifier\n",
    "DeepLearning = MLPClassifier(activation='tanh', solver='lbfgs', hidden_layer_sizes=(25,40,10,20,25,10,20),\n",
    "                            learning_rate='constant',  max_iter=600, shuffle=True, random_state=100)\n",
    "DeepLearning.fit(X,y)"
   ]
  },
  {
   "cell_type": "code",
   "execution_count": 28,
   "metadata": {
    "collapsed": true
   },
   "outputs": [],
   "source": [
    "#print(\"All coefficients of Neural Network: \")\n",
    "#print(DeepLearning.coefs_)"
   ]
  },
  {
   "cell_type": "code",
   "execution_count": 29,
   "metadata": {},
   "outputs": [
    {
     "name": "stdout",
     "output_type": "stream",
     "text": [
      "[2 2 2 ..., 2 1 3]\n"
     ]
    }
   ],
   "source": [
    "Y_prediction = DeepLearning.predict(X)\n",
    "print(Y_prediction)"
   ]
  },
  {
   "cell_type": "code",
   "execution_count": null,
   "metadata": {},
   "outputs": [
    {
     "name": "stdout",
     "output_type": "stream",
     "text": [
      "Accuracy is  100.0\n"
     ]
    }
   ],
   "source": [
    "accuracy = accuracy_score(y,Y_prediction)*100\n",
    "print( \"Accuracy is \", accuracy)"
   ]
  },
  {
   "cell_type": "code",
   "execution_count": null,
   "metadata": {},
   "outputs": [
    {
     "name": "stdout",
     "output_type": "stream",
     "text": [
      "Scores for Deep Learning\n"
     ]
    }
   ],
   "source": [
    "from sklearn.cross_validation import KFold, cross_val_score\n",
    "\n",
    "k_fold = KFold(len(X), n_folds=10, shuffle=True, random_state=100)\n",
    "\n",
    "print(\"Scores for Deep Learning\")\n",
    "crossValArray = cross_val_score(DeepLearning, X, y, cv=k_fold, n_jobs=1)\n",
    "print(crossValArray)\n",
    "\n",
    "MeanDeepLearning = mean(crossValArray)\n",
    "print(\"Average Accuracy: \", MeanDeepLearning*100)\n"
   ]
  },
  {
   "cell_type": "code",
   "execution_count": null,
   "metadata": {},
   "outputs": [],
   "source": [
    "print(\"Precision Score\")\n",
    "precision = precision_score(y,Y_prediction,average='weighted')\n",
    "print(precision)"
   ]
  },
  {
   "cell_type": "code",
   "execution_count": null,
   "metadata": {
    "collapsed": true
   },
   "outputs": [],
   "source": []
  },
  {
   "cell_type": "code",
   "execution_count": null,
   "metadata": {},
   "outputs": [],
   "source": [
    "#import Support Vector Machine from sklearn...........\n",
    "from sklearn.svm import LinearSVC\n",
    "SVM = LinearSVC(max_iter=500, multi_class =\"crammer_singer\", random_state=100, loss=\"squared_hinge\") \n",
    "SVM.fit(X,y)"
   ]
  },
  {
   "cell_type": "code",
   "execution_count": null,
   "metadata": {},
   "outputs": [],
   "source": [
    "Y_prediction = SVM.predict(X)\n",
    "print(Y_prediction)"
   ]
  },
  {
   "cell_type": "code",
   "execution_count": null,
   "metadata": {},
   "outputs": [],
   "source": [
    "accuracy = accuracy_score(y,Y_prediction)*100\n",
    "print( \"Accuracy is \", accuracy)"
   ]
  },
  {
   "cell_type": "code",
   "execution_count": null,
   "metadata": {},
   "outputs": [],
   "source": [
    "from sklearn.cross_validation import KFold, cross_val_score\n",
    "\n",
    "k_fold = KFold(len(X), n_folds=10, shuffle=True, random_state=100)\n",
    "\n",
    "print(\"Scores for SVM\")\n",
    "crossValArray = cross_val_score(SVM, X, y, cv=k_fold, n_jobs=1)\n",
    "print(crossValArray)\n",
    "\n",
    "MeanSVM = mean(crossValArray)\n",
    "print(\"Average Accuracy: \", MeanSVM*100)\n"
   ]
  },
  {
   "cell_type": "code",
   "execution_count": null,
   "metadata": {},
   "outputs": [],
   "source": [
    "print(\"Precision Score\")\n",
    "precision = precision_score(y,Y_prediction,average='weighted')\n",
    "print(precision)"
   ]
  },
  {
   "cell_type": "code",
   "execution_count": null,
   "metadata": {
    "collapsed": true
   },
   "outputs": [],
   "source": []
  },
  {
   "cell_type": "code",
   "execution_count": null,
   "metadata": {},
   "outputs": [],
   "source": [
    "#import Naive Bayes from Gaussian NB sklearn...........\n",
    "from sklearn.naive_bayes import GaussianNB\n",
    "NaiveBayesGNB = GaussianNB(priors=None) \n",
    "NaiveBayesGNB.fit(X,y)\n"
   ]
  },
  {
   "cell_type": "code",
   "execution_count": null,
   "metadata": {},
   "outputs": [],
   "source": [
    "Y_prediction = NaiveBayesGNB.predict(X)\n",
    "print(Y_prediction)"
   ]
  },
  {
   "cell_type": "code",
   "execution_count": null,
   "metadata": {},
   "outputs": [],
   "source": [
    "accuracy = accuracy_score(y,Y_prediction)*100\n",
    "print( \"Accuracy is \", accuracy)"
   ]
  },
  {
   "cell_type": "code",
   "execution_count": null,
   "metadata": {},
   "outputs": [],
   "source": [
    "from sklearn.cross_validation import KFold, cross_val_score\n",
    "\n",
    "k_fold = KFold(len(X), n_folds=10, shuffle=True, random_state=100)\n",
    "\n",
    "print(\"Scores for Gaussian Naive Bayes \")\n",
    "crossValArray = cross_val_score(NaiveBayesGNB, X, y, cv=k_fold, n_jobs=1)\n",
    "print(crossValArray)\n",
    "\n",
    "MeanNaiveBayesGNB = mean(crossValArray)\n",
    "print(\"Average Accuracy: \", MeanNaiveBayesGNB*100)\n"
   ]
  },
  {
   "cell_type": "code",
   "execution_count": null,
   "metadata": {},
   "outputs": [],
   "source": [
    "print(\"Precision Score\")\n",
    "precision = precision_score(y,Y_prediction,average='weighted')\n",
    "print(precision)"
   ]
  },
  {
   "cell_type": "code",
   "execution_count": null,
   "metadata": {
    "collapsed": true
   },
   "outputs": [],
   "source": []
  },
  {
   "cell_type": "code",
   "execution_count": null,
   "metadata": {},
   "outputs": [],
   "source": [
    "#import Naive Bayes from Multinomial NB sklearn...........\n",
    "from sklearn.naive_bayes import MultinomialNB\n",
    "NaiveBayesMNB = MultinomialNB(alpha=1.0, class_prior=None, fit_prior=True) \n",
    "NaiveBayesMNB.fit(X,y)"
   ]
  },
  {
   "cell_type": "code",
   "execution_count": null,
   "metadata": {},
   "outputs": [],
   "source": [
    "Y_prediction = NaiveBayesMNB.predict(X)\n",
    "print(Y_prediction)"
   ]
  },
  {
   "cell_type": "code",
   "execution_count": null,
   "metadata": {},
   "outputs": [],
   "source": [
    "accuracy = accuracy_score(y,Y_prediction)*100\n",
    "print( \"Accuracy is \", accuracy)"
   ]
  },
  {
   "cell_type": "code",
   "execution_count": null,
   "metadata": {},
   "outputs": [],
   "source": [
    "from sklearn.cross_validation import KFold, cross_val_score\n",
    "\n",
    "k_fold = KFold(len(X), n_folds=10, shuffle=True, random_state=100)\n",
    "\n",
    "print(\"Scores for Multinomial Naive Bayes \")\n",
    "crossValArray = cross_val_score(NaiveBayesMNB, X, y, cv=k_fold, n_jobs=1)\n",
    "print(crossValArray)\n",
    "\n",
    "MeanNaiveBayesMNB = mean(crossValArray)\n",
    "print(\"Average Accuracy: \", MeanNaiveBayesMNB*100)\n"
   ]
  },
  {
   "cell_type": "code",
   "execution_count": null,
   "metadata": {},
   "outputs": [],
   "source": [
    "print(\"Precision Score\")\n",
    "precision = precision_score(y,Y_prediction,average='weighted')\n",
    "print(precision)"
   ]
  },
  {
   "cell_type": "code",
   "execution_count": null,
   "metadata": {
    "collapsed": true
   },
   "outputs": [],
   "source": []
  },
  {
   "cell_type": "code",
   "execution_count": null,
   "metadata": {},
   "outputs": [],
   "source": [
    "#import Naive Bayes from Bernoulli NB sklearn...........\n",
    "from sklearn.naive_bayes import BernoulliNB\n",
    "NaiveBayesBNB = BernoulliNB(alpha=1.0, class_prior=None, fit_prior=True) \n",
    "NaiveBayesBNB.fit(X,y)"
   ]
  },
  {
   "cell_type": "code",
   "execution_count": null,
   "metadata": {},
   "outputs": [],
   "source": [
    "Y_prediction = NaiveBayesBNB.predict(X)\n",
    "print(Y_prediction)"
   ]
  },
  {
   "cell_type": "code",
   "execution_count": null,
   "metadata": {},
   "outputs": [],
   "source": [
    "accuracy = accuracy_score(y,Y_prediction)*100\n",
    "print( \"Accuracy is \", accuracy)"
   ]
  },
  {
   "cell_type": "code",
   "execution_count": null,
   "metadata": {},
   "outputs": [],
   "source": [
    "from sklearn.cross_validation import KFold, cross_val_score\n",
    "\n",
    "k_fold = KFold(len(X), n_folds=10, shuffle=True, random_state=100)\n",
    "\n",
    "print(\"Scores for Bernoulli Naive Bayes \")\n",
    "crossValArray = cross_val_score(NaiveBayesBNB, X, y, cv=k_fold, n_jobs=1)\n",
    "print(crossValArray)\n",
    "\n",
    "MeanNaiveBayesBNB = mean(crossValArray)\n",
    "print(\"Average Accuracy: \", MeanNaiveBayesBNB*100)"
   ]
  },
  {
   "cell_type": "code",
   "execution_count": null,
   "metadata": {},
   "outputs": [],
   "source": [
    "print(\"Precision Score\")\n",
    "precision = precision_score(y,Y_prediction,average='weighted')\n",
    "print(precision)"
   ]
  },
  {
   "cell_type": "code",
   "execution_count": null,
   "metadata": {},
   "outputs": [],
   "source": [
    "print(\"Precision Score\")\n",
    "precision = precision_score(y,Y_prediction,average='weighted')\n",
    "print(precision)"
   ]
  },
  {
   "cell_type": "code",
   "execution_count": null,
   "metadata": {
    "collapsed": true
   },
   "outputs": [],
   "source": []
  },
  {
   "cell_type": "code",
   "execution_count": null,
   "metadata": {},
   "outputs": [],
   "source": [
    "#import Logistic Regression Classifier from sklearn......................\n",
    "from sklearn.linear_model import LogisticRegression\n",
    "LogisticRegression = LogisticRegression(max_iter=200, multi_class='ovr', n_jobs=1,\n",
    "                                        random_state=50, solver='lbfgs')\n",
    "LogisticRegression.fit(X,y)"
   ]
  },
  {
   "cell_type": "code",
   "execution_count": null,
   "metadata": {},
   "outputs": [],
   "source": [
    "Y_prediction = LogisticRegression.predict(X)\n",
    "print(Y_prediction)"
   ]
  },
  {
   "cell_type": "code",
   "execution_count": null,
   "metadata": {},
   "outputs": [],
   "source": [
    "accuracy = accuracy_score(y,Y_prediction)*100\n",
    "print( \"Accuracy is \", accuracy)"
   ]
  },
  {
   "cell_type": "code",
   "execution_count": null,
   "metadata": {},
   "outputs": [],
   "source": [
    "from sklearn.cross_validation import KFold, cross_val_score\n",
    "\n",
    "k_fold = KFold(len(X), n_folds=50, shuffle=True, random_state=100)\n",
    "\n",
    "print(\"Scores for Logistic Regression \")\n",
    "crossValArray = cross_val_score(LogisticRegression, X, y, cv=k_fold, n_jobs=1)\n",
    "print(crossValArray)\n",
    "\n",
    "MeanLogisticRegression = mean(crossValArray)\n",
    "print(\"Average Accuracy: \", MeanLogisticRegression*100)\n",
    "\n"
   ]
  },
  {
   "cell_type": "code",
   "execution_count": null,
   "metadata": {},
   "outputs": [],
   "source": [
    "print(\"Precision Score\")\n",
    "precision = precision_score(y,Y_prediction,average='weighted')\n",
    "print(precision)"
   ]
  },
  {
   "cell_type": "code",
   "execution_count": null,
   "metadata": {
    "collapsed": true
   },
   "outputs": [],
   "source": []
  },
  {
   "cell_type": "code",
   "execution_count": null,
   "metadata": {},
   "outputs": [],
   "source": [
    "#import K-Nearest Neighbour Classifier from sklearn......................\n",
    "from sklearn.neighbors import KNeighborsClassifier\n",
    "KNearestNeighbors = KNeighborsClassifier(algorithm='auto',n_neighbors=10, n_jobs=1, metric='minkowski')\n",
    "KNearestNeighbors.fit(X,y)\n"
   ]
  },
  {
   "cell_type": "code",
   "execution_count": null,
   "metadata": {},
   "outputs": [],
   "source": [
    "Y_prediction = LogisticRegression.predict(X)\n",
    "print(Y_prediction)"
   ]
  },
  {
   "cell_type": "code",
   "execution_count": null,
   "metadata": {},
   "outputs": [],
   "source": [
    "accuracy = accuracy_score(y,Y_prediction)*100\n",
    "print( \"Accuracy is \", accuracy)"
   ]
  },
  {
   "cell_type": "code",
   "execution_count": null,
   "metadata": {},
   "outputs": [],
   "source": [
    "from sklearn.cross_validation import KFold, cross_val_score\n",
    "\n",
    "k_fold = KFold(len(X), n_folds=10, shuffle=True, random_state=100)\n",
    "\n",
    "print(\"Scores for K Nearest Neighbors\")\n",
    "crossValArray = cross_val_score(KNearestNeighbors, X, y, cv=k_fold, n_jobs=1)\n",
    "print(crossValArray)\n",
    "\n",
    "MeanKNearestNeighbor = mean(crossValArray)\n",
    "print(\"Average Accuracy: \", MeanKNearestNeighbor*100)\n"
   ]
  },
  {
   "cell_type": "code",
   "execution_count": null,
   "metadata": {},
   "outputs": [],
   "source": [
    "print(\"Precision Score\")\n",
    "precision = precision_score(y,Y_prediction,average='weighted')\n",
    "print(precision)"
   ]
  },
  {
   "cell_type": "code",
   "execution_count": null,
   "metadata": {
    "collapsed": true
   },
   "outputs": [],
   "source": []
  },
  {
   "cell_type": "code",
   "execution_count": null,
   "metadata": {},
   "outputs": [],
   "source": [
    "#import Bagging Classifier from sklearn......................\n",
    "from sklearn.ensemble import BaggingClassifier\n",
    "Bagging = BaggingClassifier(bootstrap=False, max_features=1.0, max_samples=1.0,\n",
    "                            n_jobs=1, random_state=150)\n",
    "Bagging.fit(X,y)"
   ]
  },
  {
   "cell_type": "code",
   "execution_count": null,
   "metadata": {},
   "outputs": [],
   "source": [
    "Y_prediction = Bagging.predict(X)\n",
    "print(Y_prediction)"
   ]
  },
  {
   "cell_type": "code",
   "execution_count": null,
   "metadata": {},
   "outputs": [],
   "source": [
    "accuracy = accuracy_score(y,Y_prediction)*100\n",
    "print( \"Accuracy is \", accuracy)"
   ]
  },
  {
   "cell_type": "code",
   "execution_count": null,
   "metadata": {},
   "outputs": [],
   "source": [
    "from sklearn.cross_validation import KFold, cross_val_score\n",
    "\n",
    "k_fold = KFold(len(X), n_folds=10, shuffle=True, random_state=100)\n",
    "print(\"Scores for Bagging\")\n",
    "crossValArray = cross_val_score(Bagging, X, y, cv=k_fold, n_jobs=1)\n",
    "print(crossValArray)\n",
    "\n",
    "MeanBagging = mean(crossValArray)\n",
    "print(\"Average Accuracy: \", MeanBagging*100)"
   ]
  },
  {
   "cell_type": "code",
   "execution_count": null,
   "metadata": {},
   "outputs": [],
   "source": [
    "print(\"Precision Score\")\n",
    "precision = precision_score(y,Y_prediction,average='weighted')\n",
    "print(precision)"
   ]
  },
  {
   "cell_type": "code",
   "execution_count": null,
   "metadata": {
    "collapsed": true
   },
   "outputs": [],
   "source": []
  },
  {
   "cell_type": "code",
   "execution_count": null,
   "metadata": {},
   "outputs": [],
   "source": [
    "#import Random Forest Classifier from sklearn......................\n",
    "from sklearn.ensemble import RandomForestClassifier\n",
    "RandomForest = RandomForestClassifier(bootstrap=True,criterion='gini', max_features = 4, \n",
    "                            random_state = 100, max_depth=20, max_leaf_nodes=35)\n",
    "RandomForest.fit(X,y)"
   ]
  },
  {
   "cell_type": "code",
   "execution_count": null,
   "metadata": {},
   "outputs": [],
   "source": [
    "Y_prediction = RandomForest.predict(X)\n",
    "print(Y_prediction)"
   ]
  },
  {
   "cell_type": "code",
   "execution_count": null,
   "metadata": {},
   "outputs": [],
   "source": [
    "accuracy = accuracy_score(y,Y_prediction)*100\n",
    "print( \"Accuracy is \", accuracy)"
   ]
  },
  {
   "cell_type": "code",
   "execution_count": null,
   "metadata": {},
   "outputs": [],
   "source": [
    "from sklearn.cross_validation import KFold, cross_val_score\n",
    "\n",
    "k_fold = KFold(len(X), n_folds=20, shuffle=True, random_state=100)\n",
    "\n",
    "print(\"Scores for Random Forest\")\n",
    "crossValArray = cross_val_score(RandomForest, X, y, cv=k_fold, n_jobs=1)\n",
    "print(crossValArray)\n",
    "\n",
    "MeanRandomForest = mean(crossValArray)\n",
    "print(\"Average Accuracy: \", MeanRandomForest*100)"
   ]
  },
  {
   "cell_type": "code",
   "execution_count": null,
   "metadata": {},
   "outputs": [],
   "source": [
    "print(\"Precision Score\")\n",
    "precision = precision_score(y,Y_prediction,average='weighted')\n",
    "print(precision)"
   ]
  },
  {
   "cell_type": "code",
   "execution_count": null,
   "metadata": {
    "collapsed": true
   },
   "outputs": [],
   "source": []
  },
  {
   "cell_type": "code",
   "execution_count": null,
   "metadata": {},
   "outputs": [],
   "source": [
    "#import AdaBoost Classifier from sklearn......................\n",
    "from sklearn.ensemble import AdaBoostClassifier\n",
    "AdaBoost = AdaBoostClassifier(algorithm='SAMME',learning_rate=0.5, n_estimators=200, random_state=100 )\n",
    "AdaBoost.fit(X,y)"
   ]
  },
  {
   "cell_type": "code",
   "execution_count": null,
   "metadata": {},
   "outputs": [],
   "source": [
    "Y_prediction = AdaBoost.predict(X)\n",
    "print(Y_prediction)"
   ]
  },
  {
   "cell_type": "code",
   "execution_count": null,
   "metadata": {},
   "outputs": [],
   "source": [
    "accuracy = accuracy_score(y,Y_prediction)*100\n",
    "print( \"Accuracy is \", accuracy)"
   ]
  },
  {
   "cell_type": "code",
   "execution_count": null,
   "metadata": {},
   "outputs": [],
   "source": [
    "from sklearn.cross_validation import KFold, cross_val_score\n",
    "\n",
    "k_fold = KFold(len(X), n_folds=15, shuffle=True, random_state=100)\n",
    "\n",
    "print(\"Scores for AdaBoost\")\n",
    "crossValArray = cross_val_score(AdaBoost, X, y, cv=k_fold, n_jobs=1)\n",
    "print(crossValArray)\n",
    "\n",
    "MeanAdaBoost = mean(crossValArray)\n",
    "print(\"Average Accuracy: \", MeanAdaBoost*100)\n"
   ]
  },
  {
   "cell_type": "code",
   "execution_count": null,
   "metadata": {},
   "outputs": [],
   "source": [
    "print(\"Precision Score\")\n",
    "precision = precision_score(y,Y_prediction,average='weighted')\n",
    "print(precision)"
   ]
  },
  {
   "cell_type": "code",
   "execution_count": null,
   "metadata": {
    "collapsed": true
   },
   "outputs": [],
   "source": []
  },
  {
   "cell_type": "code",
   "execution_count": null,
   "metadata": {},
   "outputs": [],
   "source": [
    "#import Gradient Boosting Classifier from sklearn......................\n",
    "from sklearn.ensemble import GradientBoostingClassifier\n",
    "GradientBoosting = GradientBoostingClassifier(criterion='friedman_mse', learning_rate=0.4, max_depth=5, max_features=3,\n",
    "                                              max_leaf_nodes=10, random_state=100)\n",
    "GradientBoosting.fit(X,y)\n"
   ]
  },
  {
   "cell_type": "code",
   "execution_count": null,
   "metadata": {},
   "outputs": [],
   "source": [
    "Y_prediction = GradientBoosting.predict(X)\n",
    "print(Y_prediction)"
   ]
  },
  {
   "cell_type": "code",
   "execution_count": null,
   "metadata": {},
   "outputs": [],
   "source": [
    "accuracy = accuracy_score(y,Y_prediction)*100\n",
    "print( \"Accuracy is \", accuracy)"
   ]
  },
  {
   "cell_type": "code",
   "execution_count": null,
   "metadata": {},
   "outputs": [],
   "source": [
    "from sklearn.cross_validation import KFold, cross_val_score\n",
    "\n",
    "k_fold = KFold(len(X), n_folds=10, shuffle=True, random_state=100)\n",
    "\n",
    "print(\"Scores for Gradient Boosting\")\n",
    "crossValArray = cross_val_score(GradientBoosting, X, y, cv=k_fold, n_jobs=1)\n",
    "print(crossValArray)\n",
    "\n",
    "MeanGradientBoosting = mean(crossValArray)\n",
    "print(\"Average Accuracy: \", MeanGradientBoosting*100)"
   ]
  },
  {
   "cell_type": "code",
   "execution_count": null,
   "metadata": {},
   "outputs": [],
   "source": [
    "print(\"Precision Score\")\n",
    "precision = precision_score(y,Y_prediction,average='weighted')\n",
    "print(precision)"
   ]
  },
  {
   "cell_type": "code",
   "execution_count": null,
   "metadata": {
    "collapsed": true
   },
   "outputs": [],
   "source": []
  },
  {
   "cell_type": "code",
   "execution_count": null,
   "metadata": {
    "collapsed": true
   },
   "outputs": [],
   "source": []
  }
 ],
 "metadata": {
  "kernelspec": {
   "display_name": "Python 3",
   "language": "python",
   "name": "python3"
  },
  "language_info": {
   "codemirror_mode": {
    "name": "ipython",
    "version": 3
   },
   "file_extension": ".py",
   "mimetype": "text/x-python",
   "name": "python",
   "nbconvert_exporter": "python",
   "pygments_lexer": "ipython3",
   "version": "3.6.1"
  }
 },
 "nbformat": 4,
 "nbformat_minor": 2
}
